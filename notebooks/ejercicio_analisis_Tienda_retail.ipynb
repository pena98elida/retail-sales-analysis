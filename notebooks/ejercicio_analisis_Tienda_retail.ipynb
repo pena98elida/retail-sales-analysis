{
 "cells": [
  {
   "cell_type": "markdown",
   "metadata": {},
   "source": [
    "**Instrucciones**\n",
    "\n",
    "**1.Preparación del Entorno**\n",
    "\n",
    "*Asegúrate de tener instalado Pandas en tu entorno de trabajo.\n",
    "\n",
    "*Utiliza el archivo retail_sales.csv del proyecto inicial. Si aún no lo tienes, descarga el archivo correspondiente."
   ]
  },
  {
   "cell_type": "code",
   "execution_count": 1,
   "metadata": {},
   "outputs": [],
   "source": [
    "#Importaciones de las librerías pandas, numpy y matplotlib\n",
    "import pandas as pd"
   ]
  },
  {
   "cell_type": "markdown",
   "metadata": {},
   "source": [
    "**2.Cargar los Datos**\n",
    "* Carga el archivo retail_sales.csv en un DataFrame de Pandas.\n",
    "\n",
    "* Muestra las primeras 10 filas del DataFrame para confirmar que los datos se han cargado correctamente."
   ]
  },
  {
   "cell_type": "code",
   "execution_count": 3,
   "metadata": {},
   "outputs": [
    {
     "data": {
      "text/html": [
       "<div>\n",
       "<style scoped>\n",
       "    .dataframe tbody tr th:only-of-type {\n",
       "        vertical-align: middle;\n",
       "    }\n",
       "\n",
       "    .dataframe tbody tr th {\n",
       "        vertical-align: top;\n",
       "    }\n",
       "\n",
       "    .dataframe thead th {\n",
       "        text-align: right;\n",
       "    }\n",
       "</style>\n",
       "<table border=\"1\" class=\"dataframe\">\n",
       "  <thead>\n",
       "    <tr style=\"text-align: right;\">\n",
       "      <th></th>\n",
       "      <th>Transaction ID</th>\n",
       "      <th>Date</th>\n",
       "      <th>Customer ID</th>\n",
       "      <th>Gender</th>\n",
       "      <th>Age</th>\n",
       "      <th>Product Category</th>\n",
       "      <th>Quantity</th>\n",
       "      <th>Price per Unit</th>\n",
       "      <th>Total Amount</th>\n",
       "    </tr>\n",
       "  </thead>\n",
       "  <tbody>\n",
       "    <tr>\n",
       "      <th>0</th>\n",
       "      <td>1</td>\n",
       "      <td>2023-11-24</td>\n",
       "      <td>CUST001</td>\n",
       "      <td>Male</td>\n",
       "      <td>34</td>\n",
       "      <td>Beauty</td>\n",
       "      <td>3</td>\n",
       "      <td>50</td>\n",
       "      <td>150</td>\n",
       "    </tr>\n",
       "    <tr>\n",
       "      <th>1</th>\n",
       "      <td>2</td>\n",
       "      <td>2023-02-27</td>\n",
       "      <td>CUST002</td>\n",
       "      <td>Female</td>\n",
       "      <td>26</td>\n",
       "      <td>Clothing</td>\n",
       "      <td>2</td>\n",
       "      <td>500</td>\n",
       "      <td>1000</td>\n",
       "    </tr>\n",
       "    <tr>\n",
       "      <th>2</th>\n",
       "      <td>3</td>\n",
       "      <td>2023-01-13</td>\n",
       "      <td>CUST003</td>\n",
       "      <td>Male</td>\n",
       "      <td>50</td>\n",
       "      <td>Electronics</td>\n",
       "      <td>1</td>\n",
       "      <td>30</td>\n",
       "      <td>30</td>\n",
       "    </tr>\n",
       "    <tr>\n",
       "      <th>3</th>\n",
       "      <td>4</td>\n",
       "      <td>2023-05-21</td>\n",
       "      <td>CUST004</td>\n",
       "      <td>Male</td>\n",
       "      <td>37</td>\n",
       "      <td>Clothing</td>\n",
       "      <td>1</td>\n",
       "      <td>500</td>\n",
       "      <td>500</td>\n",
       "    </tr>\n",
       "    <tr>\n",
       "      <th>4</th>\n",
       "      <td>5</td>\n",
       "      <td>2023-05-06</td>\n",
       "      <td>CUST005</td>\n",
       "      <td>Male</td>\n",
       "      <td>30</td>\n",
       "      <td>Beauty</td>\n",
       "      <td>2</td>\n",
       "      <td>50</td>\n",
       "      <td>100</td>\n",
       "    </tr>\n",
       "    <tr>\n",
       "      <th>5</th>\n",
       "      <td>6</td>\n",
       "      <td>2023-04-25</td>\n",
       "      <td>CUST006</td>\n",
       "      <td>Female</td>\n",
       "      <td>45</td>\n",
       "      <td>Beauty</td>\n",
       "      <td>1</td>\n",
       "      <td>30</td>\n",
       "      <td>30</td>\n",
       "    </tr>\n",
       "    <tr>\n",
       "      <th>6</th>\n",
       "      <td>7</td>\n",
       "      <td>2023-03-13</td>\n",
       "      <td>CUST007</td>\n",
       "      <td>Male</td>\n",
       "      <td>46</td>\n",
       "      <td>Clothing</td>\n",
       "      <td>2</td>\n",
       "      <td>25</td>\n",
       "      <td>50</td>\n",
       "    </tr>\n",
       "    <tr>\n",
       "      <th>7</th>\n",
       "      <td>8</td>\n",
       "      <td>2023-02-22</td>\n",
       "      <td>CUST008</td>\n",
       "      <td>Male</td>\n",
       "      <td>30</td>\n",
       "      <td>Electronics</td>\n",
       "      <td>4</td>\n",
       "      <td>25</td>\n",
       "      <td>100</td>\n",
       "    </tr>\n",
       "    <tr>\n",
       "      <th>8</th>\n",
       "      <td>9</td>\n",
       "      <td>2023-12-13</td>\n",
       "      <td>CUST009</td>\n",
       "      <td>Male</td>\n",
       "      <td>63</td>\n",
       "      <td>Electronics</td>\n",
       "      <td>2</td>\n",
       "      <td>300</td>\n",
       "      <td>600</td>\n",
       "    </tr>\n",
       "    <tr>\n",
       "      <th>9</th>\n",
       "      <td>10</td>\n",
       "      <td>2023-10-07</td>\n",
       "      <td>CUST010</td>\n",
       "      <td>Female</td>\n",
       "      <td>52</td>\n",
       "      <td>Clothing</td>\n",
       "      <td>4</td>\n",
       "      <td>50</td>\n",
       "      <td>200</td>\n",
       "    </tr>\n",
       "  </tbody>\n",
       "</table>\n",
       "</div>"
      ],
      "text/plain": [
       "   Transaction ID        Date Customer ID  Gender  Age Product Category  \\\n",
       "0               1  2023-11-24     CUST001    Male   34           Beauty   \n",
       "1               2  2023-02-27     CUST002  Female   26         Clothing   \n",
       "2               3  2023-01-13     CUST003    Male   50      Electronics   \n",
       "3               4  2023-05-21     CUST004    Male   37         Clothing   \n",
       "4               5  2023-05-06     CUST005    Male   30           Beauty   \n",
       "5               6  2023-04-25     CUST006  Female   45           Beauty   \n",
       "6               7  2023-03-13     CUST007    Male   46         Clothing   \n",
       "7               8  2023-02-22     CUST008    Male   30      Electronics   \n",
       "8               9  2023-12-13     CUST009    Male   63      Electronics   \n",
       "9              10  2023-10-07     CUST010  Female   52         Clothing   \n",
       "\n",
       "   Quantity  Price per Unit  Total Amount  \n",
       "0         3              50           150  \n",
       "1         2             500          1000  \n",
       "2         1              30            30  \n",
       "3         1             500           500  \n",
       "4         2              50           100  \n",
       "5         1              30            30  \n",
       "6         2              25            50  \n",
       "7         4              25           100  \n",
       "8         2             300           600  \n",
       "9         4              50           200  "
      ]
     },
     "execution_count": 3,
     "metadata": {},
     "output_type": "execute_result"
    }
   ],
   "source": [
    "path = '../data/retail_sales_dataset.csv'\n",
    "data_frame = pd.read_csv(path, sep=',', header=0)\n",
    "data_frame.head(10)"
   ]
  },
  {
   "cell_type": "markdown",
   "metadata": {},
   "source": [
    "**3.Exploración Inicial de los Datos**\n",
    "\n",
    "* Muestra las últimas 5 filas del DataFrame."
   ]
  },
  {
   "cell_type": "code",
   "execution_count": 4,
   "metadata": {},
   "outputs": [
    {
     "name": "stdout",
     "output_type": "stream",
     "text": [
      "     Transaction ID        Date Customer ID  Gender  Age Product Category  \\\n",
      "995             996  2023-05-16     CUST996    Male   62         Clothing   \n",
      "996             997  2023-11-17     CUST997    Male   52           Beauty   \n",
      "997             998  2023-10-29     CUST998  Female   23           Beauty   \n",
      "998             999  2023-12-05     CUST999  Female   36      Electronics   \n",
      "999            1000  2023-04-12    CUST1000    Male   47      Electronics   \n",
      "\n",
      "     Quantity  Price per Unit  Total Amount  \n",
      "995         1              50            50  \n",
      "996         3              30            90  \n",
      "997         4              25           100  \n",
      "998         3              50           150  \n",
      "999         4              30           120  \n"
     ]
    }
   ],
   "source": [
    "# Muestra las últimas 5 filas del DataFrame\n",
    "print(data_frame.tail(5))"
   ]
  },
  {
   "cell_type": "markdown",
   "metadata": {},
   "source": [
    "* Utiliza el método info() para obtener información general sobre el DataFrame, incluyendo el número de entradas, nombres de las columnas, tipos de datos y memoria utilizada."
   ]
  },
  {
   "cell_type": "code",
   "execution_count": 5,
   "metadata": {},
   "outputs": [
    {
     "name": "stdout",
     "output_type": "stream",
     "text": [
      "<class 'pandas.core.frame.DataFrame'>\n",
      "RangeIndex: 1000 entries, 0 to 999\n",
      "Data columns (total 9 columns):\n",
      " #   Column            Non-Null Count  Dtype \n",
      "---  ------            --------------  ----- \n",
      " 0   Transaction ID    1000 non-null   int64 \n",
      " 1   Date              1000 non-null   object\n",
      " 2   Customer ID       1000 non-null   object\n",
      " 3   Gender            1000 non-null   object\n",
      " 4   Age               1000 non-null   int64 \n",
      " 5   Product Category  1000 non-null   object\n",
      " 6   Quantity          1000 non-null   int64 \n",
      " 7   Price per Unit    1000 non-null   int64 \n",
      " 8   Total Amount      1000 non-null   int64 \n",
      "dtypes: int64(5), object(4)\n",
      "memory usage: 70.4+ KB\n"
     ]
    }
   ],
   "source": [
    "# Muestra información general sobre el DataFrame\n",
    "data_frame.info()"
   ]
  },
  {
   "cell_type": "markdown",
   "metadata": {},
   "source": [
    "**Genera estadísticas descriptivas del DataFrame utilizando el método describe().**"
   ]
  },
  {
   "cell_type": "code",
   "execution_count": 6,
   "metadata": {},
   "outputs": [
    {
     "name": "stdout",
     "output_type": "stream",
     "text": [
      "       Transaction ID         Age     Quantity  Price per Unit  Total Amount\n",
      "count     1000.000000  1000.00000  1000.000000     1000.000000   1000.000000\n",
      "mean       500.500000    41.39200     2.514000      179.890000    456.000000\n",
      "std        288.819436    13.68143     1.132734      189.681356    559.997632\n",
      "min          1.000000    18.00000     1.000000       25.000000     25.000000\n",
      "25%        250.750000    29.00000     1.000000       30.000000     60.000000\n",
      "50%        500.500000    42.00000     3.000000       50.000000    135.000000\n",
      "75%        750.250000    53.00000     4.000000      300.000000    900.000000\n",
      "max       1000.000000    64.00000     4.000000      500.000000   2000.000000\n"
     ]
    }
   ],
   "source": [
    "# Generar estadísticas descriptivas del DataFrame\n",
    "print(data_frame.describe())"
   ]
  },
  {
   "cell_type": "markdown",
   "metadata": {},
   "source": [
    "**4.Inspección de los Datos**\n",
    "\n",
    "*Inspecciona los tipos de datos de cada columna utilizando el atributo dtypes."
   ]
  },
  {
   "cell_type": "code",
   "execution_count": 7,
   "metadata": {},
   "outputs": [
    {
     "name": "stdout",
     "output_type": "stream",
     "text": [
      "Transaction ID       int64\n",
      "Date                object\n",
      "Customer ID         object\n",
      "Gender              object\n",
      "Age                  int64\n",
      "Product Category    object\n",
      "Quantity             int64\n",
      "Price per Unit       int64\n",
      "Total Amount         int64\n",
      "dtype: object\n"
     ]
    }
   ],
   "source": [
    "# Inspeccionar los tipos de datos de cada columna\n",
    "print(data_frame.dtypes)"
   ]
  },
  {
   "cell_type": "markdown",
   "metadata": {},
   "source": [
    "* Cuenta los valores únicos en la columna Producto utilizando el método value_counts()."
   ]
  },
  {
   "cell_type": "code",
   "execution_count": 9,
   "metadata": {},
   "outputs": [
    {
     "name": "stdout",
     "output_type": "stream",
     "text": [
      "Product Category\n",
      "Clothing       351\n",
      "Electronics    342\n",
      "Beauty         307\n",
      "Name: count, dtype: int64\n"
     ]
    }
   ],
   "source": [
    "# Contar los valores únicos en la columna 'Producto'\n",
    "print(data_frame['Product Category'].value_counts())"
   ]
  },
  {
   "cell_type": "markdown",
   "metadata": {},
   "source": [
    "* Muestra todos los valores únicos en la columna Tienda utilizando el método unique()."
   ]
  },
  {
   "cell_type": "code",
   "execution_count": 10,
   "metadata": {},
   "outputs": [
    {
     "name": "stdout",
     "output_type": "stream",
     "text": [
      "['Beauty' 'Clothing' 'Electronics']\n"
     ]
    }
   ],
   "source": [
    "# Muestra todos los valores únicos en la columna 'Product Category'\n",
    "print(data_frame['Product Category'].unique())"
   ]
  },
  {
   "cell_type": "markdown",
   "metadata": {},
   "source": [
    "**5.Filtrado de Datos**\n",
    "\n",
    "* Filtra el DataFrame para mostrar solo las filas donde las ventas (Ventas) sean mayores a 50."
   ]
  },
  {
   "cell_type": "code",
   "execution_count": 11,
   "metadata": {},
   "outputs": [
    {
     "name": "stdout",
     "output_type": "stream",
     "text": [
      "     Transaction ID        Date Customer ID  Gender  Age Product Category  \\\n",
      "0                 1  2023-11-24     CUST001    Male   34           Beauty   \n",
      "1                 2  2023-02-27     CUST002  Female   26         Clothing   \n",
      "3                 4  2023-05-21     CUST004    Male   37         Clothing   \n",
      "4                 5  2023-05-06     CUST005    Male   30           Beauty   \n",
      "7                 8  2023-02-22     CUST008    Male   30      Electronics   \n",
      "..              ...         ...         ...     ...  ...              ...   \n",
      "993             994  2023-12-18     CUST994  Female   51           Beauty   \n",
      "996             997  2023-11-17     CUST997    Male   52           Beauty   \n",
      "997             998  2023-10-29     CUST998  Female   23           Beauty   \n",
      "998             999  2023-12-05     CUST999  Female   36      Electronics   \n",
      "999            1000  2023-04-12    CUST1000    Male   47      Electronics   \n",
      "\n",
      "     Quantity  Price per Unit  Total Amount  \n",
      "0           3              50           150  \n",
      "1           2             500          1000  \n",
      "3           1             500           500  \n",
      "4           2              50           100  \n",
      "7           4              25           100  \n",
      "..        ...             ...           ...  \n",
      "993         2             500          1000  \n",
      "996         3              30            90  \n",
      "997         4              25           100  \n",
      "998         3              50           150  \n",
      "999         4              30           120  \n",
      "\n",
      "[783 rows x 9 columns]\n"
     ]
    }
   ],
   "source": [
    "# Filtrar el DataFrame para mostrar solo las filas donde 'Total Amount' sea mayor a 50\n",
    "filtered_data = data_frame[data_frame['Total Amount'] > 50]\n",
    "\n",
    "# Mostrar las primeras filas del DataFrame filtrado\n",
    "print(filtered_data)"
   ]
  },
  {
   "cell_type": "markdown",
   "metadata": {},
   "source": [
    "* Filtra el DataFrame para mostrar solo las filas donde el precio (Precio) sea menor a 0.5."
   ]
  },
  {
   "cell_type": "code",
   "execution_count": 12,
   "metadata": {},
   "outputs": [
    {
     "name": "stdout",
     "output_type": "stream",
     "text": [
      "Empty DataFrame\n",
      "Columns: [Transaction ID, Date, Customer ID, Gender, Age, Product Category, Quantity, Price per Unit, Total Amount]\n",
      "Index: []\n"
     ]
    }
   ],
   "source": [
    "# Filtrar el DataFrame para mostrar solo las filas donde 'Price per Unit' sea menor a 0.5\n",
    "filtered_data = data_frame[data_frame['Price per Unit'] < 0.5]\n",
    "\n",
    "# Mostrar las primeras filas del DataFrame filtrado\n",
    "print(filtered_data)"
   ]
  },
  {
   "cell_type": "markdown",
   "metadata": {},
   "source": [
    "* Utilizando el método query(), filtra el DataFrame para mostrar las filas donde el producto sea Manzanas y las ventas sean mayores a 30."
   ]
  },
  {
   "cell_type": "code",
   "execution_count": 15,
   "metadata": {},
   "outputs": [
    {
     "name": "stdout",
     "output_type": "stream",
     "text": [
      "Empty DataFrame\n",
      "Columns: [Transaction ID, Date, Customer ID, Gender, Age, Product Category, Quantity, Price per Unit, Total Amount]\n",
      "Index: []\n"
     ]
    }
   ],
   "source": [
    "# Filtrar el DataFrame para mostrar solo las filas donde el producto es 'Manzanas' y las ventas sean mayores a 30\n",
    "filtered_data = data_frame.query('`Product Category` == \"Manzanas\" and `Total Amount` > 30')\n",
    "# Mostrar las primeras filas del DataFrame filtrado\n",
    "print(filtered_data)"
   ]
  },
  {
   "cell_type": "markdown",
   "metadata": {},
   "source": [
    "**6.Slicing de Datos**\n",
    "\n",
    "* Selecciona y muestra solo las columnas Producto y Ventas del DataFrame."
   ]
  },
  {
   "cell_type": "code",
   "execution_count": 16,
   "metadata": {},
   "outputs": [
    {
     "name": "stdout",
     "output_type": "stream",
     "text": [
      "    Product Category  Total Amount\n",
      "0             Beauty           150\n",
      "1           Clothing          1000\n",
      "2        Electronics            30\n",
      "3           Clothing           500\n",
      "4             Beauty           100\n",
      "..               ...           ...\n",
      "995         Clothing            50\n",
      "996           Beauty            90\n",
      "997           Beauty           100\n",
      "998      Electronics           150\n",
      "999      Electronics           120\n",
      "\n",
      "[1000 rows x 2 columns]\n"
     ]
    }
   ],
   "source": [
    "# Seleccionar solo las columnas 'Product' y 'Total Amount'\n",
    "selected_columns = data_frame[['Product Category', 'Total Amount']]\n",
    "\n",
    "# Mostrar las primeras filas de las columnas seleccionadas\n",
    "print(selected_columns)"
   ]
  },
  {
   "cell_type": "markdown",
   "metadata": {},
   "source": [
    "* Utilizando loc[], selecciona y muestra las filas de la 5 a la 10 (inclusive) y las columnas Producto y Tienda."
   ]
  },
  {
   "cell_type": "code",
   "execution_count": 17,
   "metadata": {},
   "outputs": [
    {
     "name": "stdout",
     "output_type": "stream",
     "text": [
      "   Product Category  Total Amount\n",
      "5            Beauty            30\n",
      "6          Clothing            50\n",
      "7       Electronics           100\n",
      "8       Electronics           600\n",
      "9          Clothing           200\n",
      "10         Clothing           100\n"
     ]
    }
   ],
   "source": [
    "# Seleccionar las filas de la 5 a la 10 (inclusive) y las columnas 'Product' y 'Store'\n",
    "selected_data = data_frame.loc[5:10, ['Product Category', 'Total Amount']]\n",
    "\n",
    "# Mostrar las filas seleccionadas\n",
    "print(selected_data)"
   ]
  },
  {
   "cell_type": "markdown",
   "metadata": {},
   "source": [
    "* Utilizando iloc[], selecciona y muestra las primeras 5 filas y las primeras 3 columnas del DataFrame."
   ]
  },
  {
   "cell_type": "code",
   "execution_count": 18,
   "metadata": {},
   "outputs": [
    {
     "name": "stdout",
     "output_type": "stream",
     "text": [
      "   Transaction ID        Date Customer ID\n",
      "0               1  2023-11-24     CUST001\n",
      "1               2  2023-02-27     CUST002\n",
      "2               3  2023-01-13     CUST003\n",
      "3               4  2023-05-21     CUST004\n",
      "4               5  2023-05-06     CUST005\n"
     ]
    }
   ],
   "source": [
    "# Seleccionar las primeras 5 filas y las primeras 3 columnas\n",
    "selected_data = data_frame.iloc[:5, :3]\n",
    "\n",
    "# Mostrar las filas y columnas seleccionadas\n",
    "print(selected_data)"
   ]
  }
 ],
 "metadata": {
  "kernelspec": {
   "display_name": "Python 3",
   "language": "python",
   "name": "python3"
  },
  "language_info": {
   "codemirror_mode": {
    "name": "ipython",
    "version": 3
   },
   "file_extension": ".py",
   "mimetype": "text/x-python",
   "name": "python",
   "nbconvert_exporter": "python",
   "pygments_lexer": "ipython3",
   "version": "3.12.1"
  }
 },
 "nbformat": 4,
 "nbformat_minor": 2
}
